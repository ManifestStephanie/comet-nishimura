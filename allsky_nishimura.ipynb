{
 "cells": [
  {
   "cell_type": "code",
   "execution_count": 2,
   "id": "b53ef2a3-6693-4fb9-a447-540368eba6d7",
   "metadata": {},
   "outputs": [],
   "source": [
    "import numpy as np\n",
    "from matplotlib import pyplot as plt\n",
    "from matplotlib.collections import LineCollection, PolyCollection\n",
    "\n",
    "from skyfield.api import Star, load, wgs84, N, S, W, E\n",
    "from skyfield.data import hipparcos, mpc, stellarium\n",
    "import dsos\n",
    "from skyfield.projections import build_stereographic_projection\n",
    "from datetime import datetime\n",
    "from pytz import timezone"
   ]
  },
  {
   "cell_type": "code",
   "execution_count": 3,
   "id": "e9ac84db-868c-4d6c-8a90-7dd48344b0cf",
   "metadata": {},
   "outputs": [],
   "source": [
    "SEA = timezone('US/Pacific')\n",
    "ts = load.timescale()\n",
    "t = ts.from_datetime(SEA.localize(datetime(2023,9,19,23,0,0)))\n",
    "# 180 = South, 0 = North\n",
    "degrees = 0.0"
   ]
  },
  {
   "cell_type": "code",
   "execution_count": 4,
   "id": "9e000262-10a7-4abe-9500-372414df78bf",
   "metadata": {},
   "outputs": [],
   "source": [
    "seattle = wgs84.latlon(47.61352679507131, -122.30535433025425, elevation_m=100).at(t)\n",
    "position = seattle.from_altaz(alt_degrees=90, az_degrees=degrees)"
   ]
  },
  {
   "cell_type": "code",
   "execution_count": 6,
   "id": "b8b08d4e-68ae-4c20-b65d-5e81913df176",
   "metadata": {},
   "outputs": [],
   "source": [
    "# An ephemeris from JPL provides Sun and Earth positions.\n",
    "\n",
    "eph = load('de421.bsp')\n",
    "sun = eph['sun']\n",
    "earth = eph['earth']"
   ]
  },
  {
   "cell_type": "code",
   "execution_count": null,
   "id": "f6f26cab-c4cc-4226-a59b-7c7b840a5bcf",
   "metadata": {},
   "outputs": [],
   "source": [
    "# Center on Alberio"
   ]
  }
 ],
 "metadata": {
  "kernelspec": {
   "display_name": "Python 3 (ipykernel)",
   "language": "python",
   "name": "python3"
  },
  "language_info": {
   "codemirror_mode": {
    "name": "ipython",
    "version": 3
   },
   "file_extension": ".py",
   "mimetype": "text/x-python",
   "name": "python",
   "nbconvert_exporter": "python",
   "pygments_lexer": "ipython3",
   "version": "3.9.7"
  }
 },
 "nbformat": 4,
 "nbformat_minor": 5
}
